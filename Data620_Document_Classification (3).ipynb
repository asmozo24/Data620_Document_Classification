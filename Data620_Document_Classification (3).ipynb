{
 "cells": [
  {
   "cell_type": "markdown",
   "id": "9462a15a",
   "metadata": {},
   "source": [
    "## Document Classification"
   ]
  },
  {
   "cell_type": "code",
   "execution_count": null,
   "id": "7997214b",
   "metadata": {},
   "outputs": [],
   "source": [
    "It can be useful to be able to classify new \"test\" documents using already classified \"training\" documents.  \n",
    "A common example is using a corpus of labeled spam and ham (non-spam) e-mails to predict whether or not a new document is spam.\n",
    "Here is one example of such data:  UCI Machine Learning Repository: Spambase Data Set For this project, you can either use \n",
    "the above dataset to predict the class of new documents (either withheld from the training dataset or from another source such\n",
    "as your own spam folder). For more adventurous students, you are welcome (encouraged!) to come up a different set of documents \n",
    "(including scraped web pages!?) that have already been classified (e.g. tagged), then analyze these documents to predict \n",
    "how new documents should be classified. This assignment is due end of day on Sunday."
   ]
  },
  {
   "cell_type": "code",
   "execution_count": null,
   "id": "9ea22f55",
   "metadata": {},
   "outputs": [],
   "source": [
    "#### Spambase Data Set\n",
    "\n",
    "\n",
    "Abstract: Classifying Email as Spam or Non-Spam\n",
    "\n",
    "Source:\n",
    "\n",
    "Creators:\n",
    "\n",
    "Mark Hopkins, Erik Reeber, George Forman, Jaap Suermondt Hewlett-Packard Labs, 1501 Page Mill Rd., Palo Alto, CA 94304\n",
    "\n",
    "Donor: George Forman (gforman at nospam hpl.hp.com) 650-857-7835\n",
    "\n",
    "Data Set Information:\n",
    "\n",
    "The \"spam\" concept is diverse: advertisements for products/web sites, make money fast schemes, chain letters, pornography...\n",
    "\n",
    "Our collection of spam e-mails came from our postmaster and individuals who had filed spam. Our collection of non-spam e-mails came from filed work and personal e-mails, and hence the word 'george' and the area code '650' are indicators of non-spam. These are useful when constructing a personalized spam filter. One would either have to blind such non-spam indicators or get a very wide collection of non-spam to generate a general purpose spam filter.\n",
    "\n",
    "For background on spam:\n",
    "\n",
    "Cranor, Lorrie F., LaMacchia, Brian A. Spam!\n",
    "Communications of the ACM, 41(8):74-83, 1998.\n",
    "\n",
    "(a) Hewlett-Packard Internal-only Technical Report. External forthcoming.\n",
    "(b) Determine whether a given email is spam or not.\n",
    "(c) ~7% misclassification error. False positives (marking good mail as spam) are very undesirable.If we insist on zero false positives in the training/testing set, 20-25% of the spam passed through the filter.\n",
    "\n",
    "\n",
    "Attribute Information:\n",
    "\n",
    "The last column of 'spambase.data' denotes whether the e-mail was considered spam (1) or not (0), i.e. unsolicited commercial e-mail. Most of the attributes indicate whether a particular word or character was frequently occuring in the e-mail. The run-length attributes (55-57) measure the length of sequences of consecutive capital letters. For the statistical measures of each attribute, see the end of this file. Here are the definitions of the attributes:\n",
    "\n",
    "48 continuous real [0,100] attributes of type word_freq_WORD\n",
    "= percentage of words in the e-mail that match WORD, i.e. 100 * (number of times the WORD appears in the e-mail) / total number of words in e-mail. A \"word\" in this case is any string of alphanumeric characters bounded by non-alphanumeric characters or end-of-string.\n",
    "\n",
    "6 continuous real [0,100] attributes of type char_freq_CHAR]\n",
    "= percentage of characters in the e-mail that match CHAR, i.e. 100 * (number of CHAR occurences) / total characters in e-mail\n",
    "\n",
    "1 continuous real [1,...] attribute of type capital_run_length_average\n",
    "= average length of uninterrupted sequences of capital letters\n",
    "\n",
    "1 continuous integer [1,...] attribute of type capital_run_length_longest\n",
    "= length of longest uninterrupted sequence of capital letters\n",
    "\n",
    "1 continuous integer [1,...] attribute of type capital_run_length_total\n",
    "= sum of length of uninterrupted sequences of capital letters\n",
    "= total number of capital letters in the e-mail\n",
    "\n",
    "1 nominal {0,1} class attribute of type spam\n",
    "= denotes whether the e-mail was considered spam (1) or not (0), i.e. unsolicited commercial e-mail.\n",
    "\n",
    "http://archive.ics.uci.edu/ml/datasets/Spambase\n",
    "    "
   ]
  },
  {
   "cell_type": "code",
   "execution_count": 106,
   "id": "c962f81e",
   "metadata": {},
   "outputs": [],
   "source": [
    "#!pip install sklearn\n",
    "#!pip install seaborn\n",
    "#!pip install statsmodels"
   ]
  },
  {
   "cell_type": "code",
   "execution_count": 116,
   "id": "d67131f5",
   "metadata": {},
   "outputs": [],
   "source": [
    "import pandas as pd\n",
    "import numpy as np\n",
    "import matplotlib.pyplot as plt\n",
    "from nltk.probability import FreqDist\n",
    "from nltk import sent_tokenize\n",
    "from nltk.tokenize import word_tokenize\n",
    "from sklearn.model_selection import train_test_split\n",
    "from sklearn.linear_model import LogisticRegression #logistic regression\n",
    "from sklearn.naive_bayes import BernoulliNB #naive-bayes\n",
    "from sklearn import preprocessing\n",
    "from sklearn.preprocessing import StandardScaler\n",
    "from sklearn import metrics\n",
    "import statsmodels.api as sm\n",
    "\n",
    "import seaborn as sns\n",
    "from sklearn.model_selection import cross_validate\n",
    "from sklearn.metrics import accuracy_score\n",
    "from sklearn.metrics import classification_report, confusion_matrix\n",
    "#from nltk.corpus import stopwords \n",
    "from nltk.text import Text\n",
    "from collections import Counter #\n",
    "import re\n",
    "import nltk\n",
    "import string\n",
    "from nltk.util import bigrams\n",
    "from nltk.corpus import names\n",
    "import random\n",
    "#https://github.com/nltk/nltk/blob/develop/nltk/book.py\n",
    "#https://www.datacamp.com/tutorial/understanding-logistic-regression-python    "
   ]
  },
  {
   "cell_type": "markdown",
   "id": "5ede816b",
   "metadata": {},
   "source": [
    "##### Let's load the data"
   ]
  },
  {
   "cell_type": "code",
   "execution_count": 25,
   "id": "c0354198",
   "metadata": {},
   "outputs": [
    {
     "data": {
      "text/html": [
       "<div>\n",
       "<style scoped>\n",
       "    .dataframe tbody tr th:only-of-type {\n",
       "        vertical-align: middle;\n",
       "    }\n",
       "\n",
       "    .dataframe tbody tr th {\n",
       "        vertical-align: top;\n",
       "    }\n",
       "\n",
       "    .dataframe thead th {\n",
       "        text-align: right;\n",
       "    }\n",
       "</style>\n",
       "<table border=\"1\" class=\"dataframe\">\n",
       "  <thead>\n",
       "    <tr style=\"text-align: right;\">\n",
       "      <th></th>\n",
       "      <th>word_freq_make</th>\n",
       "      <th>word_freq_address</th>\n",
       "      <th>word_freq_all</th>\n",
       "      <th>word_freq_3d</th>\n",
       "      <th>word_freq_our</th>\n",
       "      <th>word_freq_over</th>\n",
       "      <th>word_freq_remove</th>\n",
       "      <th>word_freq_internet</th>\n",
       "      <th>word_freq_order</th>\n",
       "      <th>word_freq_mail</th>\n",
       "      <th>...</th>\n",
       "      <th>char_freq_%3B</th>\n",
       "      <th>char_freq_%28</th>\n",
       "      <th>char_freq_%5B</th>\n",
       "      <th>char_freq_%21</th>\n",
       "      <th>char_freq_%24</th>\n",
       "      <th>char_freq_%23</th>\n",
       "      <th>capital_run_length_average</th>\n",
       "      <th>capital_run_length_longest</th>\n",
       "      <th>capital_run_length_total</th>\n",
       "      <th>class</th>\n",
       "    </tr>\n",
       "  </thead>\n",
       "  <tbody>\n",
       "    <tr>\n",
       "      <th>0</th>\n",
       "      <td>0.00</td>\n",
       "      <td>0.64</td>\n",
       "      <td>0.64</td>\n",
       "      <td>0.0</td>\n",
       "      <td>0.32</td>\n",
       "      <td>0.00</td>\n",
       "      <td>0.00</td>\n",
       "      <td>0.00</td>\n",
       "      <td>0.00</td>\n",
       "      <td>0.00</td>\n",
       "      <td>...</td>\n",
       "      <td>0.00</td>\n",
       "      <td>0.000</td>\n",
       "      <td>0.0</td>\n",
       "      <td>0.778</td>\n",
       "      <td>0.000</td>\n",
       "      <td>0.000</td>\n",
       "      <td>3.756</td>\n",
       "      <td>61</td>\n",
       "      <td>278</td>\n",
       "      <td>1</td>\n",
       "    </tr>\n",
       "    <tr>\n",
       "      <th>1</th>\n",
       "      <td>0.21</td>\n",
       "      <td>0.28</td>\n",
       "      <td>0.50</td>\n",
       "      <td>0.0</td>\n",
       "      <td>0.14</td>\n",
       "      <td>0.28</td>\n",
       "      <td>0.21</td>\n",
       "      <td>0.07</td>\n",
       "      <td>0.00</td>\n",
       "      <td>0.94</td>\n",
       "      <td>...</td>\n",
       "      <td>0.00</td>\n",
       "      <td>0.132</td>\n",
       "      <td>0.0</td>\n",
       "      <td>0.372</td>\n",
       "      <td>0.180</td>\n",
       "      <td>0.048</td>\n",
       "      <td>5.114</td>\n",
       "      <td>101</td>\n",
       "      <td>1028</td>\n",
       "      <td>1</td>\n",
       "    </tr>\n",
       "    <tr>\n",
       "      <th>2</th>\n",
       "      <td>0.06</td>\n",
       "      <td>0.00</td>\n",
       "      <td>0.71</td>\n",
       "      <td>0.0</td>\n",
       "      <td>1.23</td>\n",
       "      <td>0.19</td>\n",
       "      <td>0.19</td>\n",
       "      <td>0.12</td>\n",
       "      <td>0.64</td>\n",
       "      <td>0.25</td>\n",
       "      <td>...</td>\n",
       "      <td>0.01</td>\n",
       "      <td>0.143</td>\n",
       "      <td>0.0</td>\n",
       "      <td>0.276</td>\n",
       "      <td>0.184</td>\n",
       "      <td>0.010</td>\n",
       "      <td>9.821</td>\n",
       "      <td>485</td>\n",
       "      <td>2259</td>\n",
       "      <td>1</td>\n",
       "    </tr>\n",
       "    <tr>\n",
       "      <th>3</th>\n",
       "      <td>0.00</td>\n",
       "      <td>0.00</td>\n",
       "      <td>0.00</td>\n",
       "      <td>0.0</td>\n",
       "      <td>0.63</td>\n",
       "      <td>0.00</td>\n",
       "      <td>0.31</td>\n",
       "      <td>0.63</td>\n",
       "      <td>0.31</td>\n",
       "      <td>0.63</td>\n",
       "      <td>...</td>\n",
       "      <td>0.00</td>\n",
       "      <td>0.137</td>\n",
       "      <td>0.0</td>\n",
       "      <td>0.137</td>\n",
       "      <td>0.000</td>\n",
       "      <td>0.000</td>\n",
       "      <td>3.537</td>\n",
       "      <td>40</td>\n",
       "      <td>191</td>\n",
       "      <td>1</td>\n",
       "    </tr>\n",
       "    <tr>\n",
       "      <th>4</th>\n",
       "      <td>0.00</td>\n",
       "      <td>0.00</td>\n",
       "      <td>0.00</td>\n",
       "      <td>0.0</td>\n",
       "      <td>0.63</td>\n",
       "      <td>0.00</td>\n",
       "      <td>0.31</td>\n",
       "      <td>0.63</td>\n",
       "      <td>0.31</td>\n",
       "      <td>0.63</td>\n",
       "      <td>...</td>\n",
       "      <td>0.00</td>\n",
       "      <td>0.135</td>\n",
       "      <td>0.0</td>\n",
       "      <td>0.135</td>\n",
       "      <td>0.000</td>\n",
       "      <td>0.000</td>\n",
       "      <td>3.537</td>\n",
       "      <td>40</td>\n",
       "      <td>191</td>\n",
       "      <td>1</td>\n",
       "    </tr>\n",
       "  </tbody>\n",
       "</table>\n",
       "<p>5 rows × 58 columns</p>\n",
       "</div>"
      ],
      "text/plain": [
       "   word_freq_make  word_freq_address  word_freq_all  word_freq_3d  \\\n",
       "0            0.00               0.64           0.64           0.0   \n",
       "1            0.21               0.28           0.50           0.0   \n",
       "2            0.06               0.00           0.71           0.0   \n",
       "3            0.00               0.00           0.00           0.0   \n",
       "4            0.00               0.00           0.00           0.0   \n",
       "\n",
       "   word_freq_our  word_freq_over  word_freq_remove  word_freq_internet  \\\n",
       "0           0.32            0.00              0.00                0.00   \n",
       "1           0.14            0.28              0.21                0.07   \n",
       "2           1.23            0.19              0.19                0.12   \n",
       "3           0.63            0.00              0.31                0.63   \n",
       "4           0.63            0.00              0.31                0.63   \n",
       "\n",
       "   word_freq_order  word_freq_mail  ...  char_freq_%3B  char_freq_%28  \\\n",
       "0             0.00            0.00  ...           0.00          0.000   \n",
       "1             0.00            0.94  ...           0.00          0.132   \n",
       "2             0.64            0.25  ...           0.01          0.143   \n",
       "3             0.31            0.63  ...           0.00          0.137   \n",
       "4             0.31            0.63  ...           0.00          0.135   \n",
       "\n",
       "   char_freq_%5B  char_freq_%21  char_freq_%24  char_freq_%23  \\\n",
       "0            0.0          0.778          0.000          0.000   \n",
       "1            0.0          0.372          0.180          0.048   \n",
       "2            0.0          0.276          0.184          0.010   \n",
       "3            0.0          0.137          0.000          0.000   \n",
       "4            0.0          0.135          0.000          0.000   \n",
       "\n",
       "   capital_run_length_average  capital_run_length_longest  \\\n",
       "0                       3.756                          61   \n",
       "1                       5.114                         101   \n",
       "2                       9.821                         485   \n",
       "3                       3.537                          40   \n",
       "4                       3.537                          40   \n",
       "\n",
       "   capital_run_length_total  class  \n",
       "0                       278      1  \n",
       "1                      1028      1  \n",
       "2                      2259      1  \n",
       "3                       191      1  \n",
       "4                       191      1  \n",
       "\n",
       "[5 rows x 58 columns]"
      ]
     },
     "execution_count": 25,
     "metadata": {},
     "output_type": "execute_result"
    }
   ],
   "source": [
    "df1 = pd.read_csv('C:\\\\Users\\\\owner\\\\Downloads\\\\spambase.csv',encoding='latin')\n",
    "#with pd.option_context('display.max_rows', None, 'display.max_columns', None): \n",
    "#    display(df1)\n",
    "df1.head(5)"
   ]
  },
  {
   "cell_type": "code",
   "execution_count": null,
   "id": "81824b8b",
   "metadata": {},
   "outputs": [],
   "source": []
  },
  {
   "cell_type": "code",
   "execution_count": null,
   "id": "f11ec758",
   "metadata": {},
   "outputs": [],
   "source": [
    "### 58 columns is a lot, I am curious about the values distribution. The readme says spam =1 and ham(non-spam) = 0 "
   ]
  },
  {
   "cell_type": "code",
   "execution_count": 23,
   "id": "7281b436",
   "metadata": {},
   "outputs": [
    {
     "data": {
      "text/plain": [
       "word_freq_make                0\n",
       "word_freq_address             0\n",
       "word_freq_all                 0\n",
       "word_freq_3d                  0\n",
       "word_freq_our                 0\n",
       "word_freq_over                0\n",
       "word_freq_remove              0\n",
       "word_freq_internet            0\n",
       "word_freq_order               0\n",
       "word_freq_mail                0\n",
       "word_freq_receive             0\n",
       "word_freq_will                0\n",
       "word_freq_people              0\n",
       "word_freq_report              0\n",
       "word_freq_addresses           0\n",
       "word_freq_free                0\n",
       "word_freq_business            0\n",
       "word_freq_email               0\n",
       "word_freq_you                 0\n",
       "word_freq_credit              0\n",
       "word_freq_your                0\n",
       "word_freq_font                0\n",
       "word_freq_000                 0\n",
       "word_freq_money               0\n",
       "word_freq_hp                  0\n",
       "word_freq_hpl                 0\n",
       "word_freq_george              0\n",
       "word_freq_650                 0\n",
       "word_freq_lab                 0\n",
       "word_freq_labs                0\n",
       "word_freq_telnet              0\n",
       "word_freq_857                 0\n",
       "word_freq_data                0\n",
       "word_freq_415                 0\n",
       "word_freq_85                  0\n",
       "word_freq_technology          0\n",
       "word_freq_1999                0\n",
       "word_freq_parts               0\n",
       "word_freq_pm                  0\n",
       "word_freq_direct              0\n",
       "word_freq_cs                  0\n",
       "word_freq_meeting             0\n",
       "word_freq_original            0\n",
       "word_freq_project             0\n",
       "word_freq_re                  0\n",
       "word_freq_edu                 0\n",
       "word_freq_table               0\n",
       "word_freq_conference          0\n",
       "char_freq_%3B                 0\n",
       "char_freq_%28                 0\n",
       "char_freq_%5B                 0\n",
       "char_freq_%21                 0\n",
       "char_freq_%24                 0\n",
       "char_freq_%23                 0\n",
       "capital_run_length_average    0\n",
       "capital_run_length_longest    0\n",
       "capital_run_length_total      0\n",
       "class                         0\n",
       "dtype: int64"
      ]
     },
     "execution_count": 23,
     "metadata": {},
     "output_type": "execute_result"
    }
   ],
   "source": [
    "# Checking for any missing values\n",
    "df1.isnull().sum()"
   ]
  },
  {
   "cell_type": "code",
   "execution_count": 56,
   "id": "81a983d3",
   "metadata": {},
   "outputs": [
    {
     "data": {
      "text/plain": [
       "0    2788\n",
       "1    1813\n",
       "Name: target, dtype: int64"
      ]
     },
     "execution_count": 56,
     "metadata": {},
     "output_type": "execute_result"
    }
   ],
   "source": [
    "# I see there is a class column which contains the target value (spam and ham)\n",
    "#rename column\n",
    "#df.rename(columns = {'old_col1':'new_col1', 'old_col2':'new_col2'}, inplace = True)\n",
    "df1.rename(columns = {'class':'target'}, inplace = True)\n",
    "df1.target.value_counts()\n",
    "#df1.iloc[:,[57]].value_counts()\n"
   ]
  },
  {
   "cell_type": "code",
   "execution_count": 79,
   "id": "4db84348",
   "metadata": {},
   "outputs": [
    {
     "data": {
      "image/png": "[encoded data removed]",
      "text/plain": [
       "<Figure size 504x576 with 1 Axes>"
      ]
     },
     "metadata": {
      "needs_background": "light"
     },
     "output_type": "display_data"
    }
   ],
   "source": [
    "fig = plt.figure(figsize = (7, 8))\n",
    "plt.title(label=\"Comparing Ham Vs. Spam\",fontsize=15,color=\"black\")\n",
    "#df1.iloc[:,[57]].hist()\n",
    "sns.countplot(x = 'target', data = df1, palette = 'hls')\n",
    "plt.show()\n",
    "#df1['class'].plot(kind=\"bar\", color=['green', 'red'])\n",
    "\n",
    "#plt.bar(df1.class)\n",
    "#df1.class.hist()"
   ]
  },
  {
   "cell_type": "code",
   "execution_count": 77,
   "id": "c0fbab3d",
   "metadata": {},
   "outputs": [
    {
     "data": {
      "text/plain": [
       "array([[<AxesSubplot:title={'center':'word_freq_make'}>,\n",
       "        <AxesSubplot:title={'center':'word_freq_address'}>],\n",
       "       [<AxesSubplot:title={'center':'word_freq_all'}>,\n",
       "        <AxesSubplot:title={'center':'word_freq_remove'}>],\n",
       "       [<AxesSubplot:title={'center':'word_freq_over'}>,\n",
       "        <AxesSubplot:title={'center':'word_freq_internet'}>]],\n",
       "      dtype=object)"
      ]
     },
     "execution_count": 77,
     "metadata": {},
     "output_type": "execute_result"
    },
    {
     "data": {
      "image/png": "[encoded data removed]",
      "text/plain": [
       "<Figure size 432x288 with 6 Axes>"
      ]
     },
     "metadata": {
      "needs_background": "light"
     },
     "output_type": "display_data"
    }
   ],
   "source": [
    "#df1.word_freq_make.hist()\n",
    "#df1.word_freq_address.hist()\n",
    "#df1.hist()\n",
    "df1.iloc[:,[0,1,2,6,5, 7]].hist()\n"
   ]
  },
  {
   "cell_type": "code",
   "execution_count": null,
   "id": "8eeb3c90",
   "metadata": {},
   "outputs": [],
   "source": [
    "The target variable is has binary values. So, we can use logistic regression to classify the spam email\n",
    "\n",
    "The supervised algorigthm is used to display relationship among variables.\n",
    "Under supervised machine, there is classification which predicts based on set of features. \n",
    "classification requires discrete and finite outputs called classes or categories. "
   ]
  },
  {
   "cell_type": "code",
   "execution_count": null,
   "id": "0b8b29b1",
   "metadata": {},
   "outputs": [],
   "source": [
    "##### Modeling\n",
    "## Let's split the data into test and train"
   ]
  },
  {
   "cell_type": "code",
   "execution_count": 80,
   "id": "3e315f4b",
   "metadata": {},
   "outputs": [
    {
     "data": {
      "text/plain": [
       "['word_freq_make',\n",
       " 'word_freq_address',\n",
       " 'word_freq_all',\n",
       " 'word_freq_3d',\n",
       " 'word_freq_our',\n",
       " 'word_freq_over',\n",
       " 'word_freq_remove',\n",
       " 'word_freq_internet',\n",
       " 'word_freq_order',\n",
       " 'word_freq_mail',\n",
       " 'word_freq_receive',\n",
       " 'word_freq_will',\n",
       " 'word_freq_people',\n",
       " 'word_freq_report',\n",
       " 'word_freq_addresses',\n",
       " 'word_freq_free',\n",
       " 'word_freq_business',\n",
       " 'word_freq_email',\n",
       " 'word_freq_you',\n",
       " 'word_freq_credit',\n",
       " 'word_freq_your',\n",
       " 'word_freq_font',\n",
       " 'word_freq_000',\n",
       " 'word_freq_money',\n",
       " 'word_freq_hp',\n",
       " 'word_freq_hpl',\n",
       " 'word_freq_george',\n",
       " 'word_freq_650',\n",
       " 'word_freq_lab',\n",
       " 'word_freq_labs',\n",
       " 'word_freq_telnet',\n",
       " 'word_freq_857',\n",
       " 'word_freq_data',\n",
       " 'word_freq_415',\n",
       " 'word_freq_85',\n",
       " 'word_freq_technology',\n",
       " 'word_freq_1999',\n",
       " 'word_freq_parts',\n",
       " 'word_freq_pm',\n",
       " 'word_freq_direct',\n",
       " 'word_freq_cs',\n",
       " 'word_freq_meeting',\n",
       " 'word_freq_original',\n",
       " 'word_freq_project',\n",
       " 'word_freq_re',\n",
       " 'word_freq_edu',\n",
       " 'word_freq_table',\n",
       " 'word_freq_conference',\n",
       " 'char_freq_%3B',\n",
       " 'char_freq_%28',\n",
       " 'char_freq_%5B',\n",
       " 'char_freq_%21',\n",
       " 'char_freq_%24',\n",
       " 'char_freq_%23',\n",
       " 'capital_run_length_average',\n",
       " 'capital_run_length_longest',\n",
       " 'capital_run_length_total',\n",
       " 'target']"
      ]
     },
     "execution_count": 80,
     "metadata": {},
     "output_type": "execute_result"
    }
   ],
   "source": [
    "list(df1)"
   ]
  },
  {
   "cell_type": "code",
   "execution_count": 81,
   "id": "2159e9b3",
   "metadata": {},
   "outputs": [],
   "source": [
    "colnames = ['word_freq_make', 'word_freq_address', 'word_freq_all', 'word_freq_3d', 'word_freq_our', 'word_freq_over', 'word_freq_remove',\n",
    " 'word_freq_internet', 'word_freq_order', 'word_freq_mail', 'word_freq_receive', 'word_freq_will', 'word_freq_people', 'word_freq_report',\n",
    " 'word_freq_addresses', 'word_freq_free', 'word_freq_business', 'word_freq_email', 'word_freq_you', 'word_freq_credit', 'word_freq_your',\n",
    " 'word_freq_font', 'word_freq_000', 'word_freq_money', 'word_freq_hp', 'word_freq_hpl', 'word_freq_george', 'word_freq_650', 'word_freq_lab',\n",
    " 'word_freq_labs', 'word_freq_telnet', 'word_freq_857', 'word_freq_data', 'word_freq_415', 'word_freq_85', 'word_freq_technology',\n",
    " 'word_freq_1999', 'word_freq_parts', 'word_freq_pm', 'word_freq_direct', 'word_freq_cs', 'word_freq_meeting', 'word_freq_original',\n",
    " 'word_freq_project', 'word_freq_re', 'word_freq_edu', 'word_freq_table', 'word_freq_conference', 'char_freq_%3B', 'char_freq_%28',\n",
    " 'char_freq_%5B', 'char_freq_%21', 'char_freq_%24', 'char_freq_%23', 'capital_run_length_average', 'capital_run_length_longest',\n",
    " 'capital_run_length_total']\n",
    "\n",
    "x = df1[colnames]\n",
    "y = df1.target"
   ]
  },
  {
   "cell_type": "code",
   "execution_count": 82,
   "id": "808df731",
   "metadata": {},
   "outputs": [],
   "source": [
    "# Splitting df1 in training set and testing sets\n",
    "trainX,testX,trainY,testY=train_test_split(x,y,test_size=0.2,random_state=0)\n",
    "\n",
    "#Now, we have splitted the data in training and testing ,...we need to scale up the input\n",
    "#scale = StandardScaler() # calling the function\n",
    "#trainX = scale.fit_transform(trainX)\n",
    "#testX = scale.fit_transform(testX)"
   ]
  },
  {
   "cell_type": "code",
   "execution_count": 83,
   "id": "98bcf1fd",
   "metadata": {},
   "outputs": [
    {
     "name": "stderr",
     "output_type": "stream",
     "text": [
      "C:\\Users\\owner\\opencv\\lib\\site-packages\\sklearn\\linear_model\\_logistic.py:444: ConvergenceWarning: lbfgs failed to converge (status=1):\n",
      "STOP: TOTAL NO. of ITERATIONS REACHED LIMIT.\n",
      "\n",
      "Increase the number of iterations (max_iter) or scale the data as shown in:\n",
      "    https://scikit-learn.org/stable/modules/preprocessing.html\n",
      "Please also refer to the documentation for alternative solver options:\n",
      "    https://scikit-learn.org/stable/modules/linear_model.html#logistic-regression\n",
      "  n_iter_i = _check_optimize_result(\n"
     ]
    }
   ],
   "source": [
    "## Calling logistic function for our model ...solver='liblinear',\n",
    "model = LogisticRegression()\n",
    "model.fit(x, y)\n",
    "\n",
    "train, test = train_test_split(df, test_size=0.2)"
   ]
  },
  {
   "cell_type": "markdown",
   "id": "6f0382f8",
   "metadata": {},
   "source": [
    "###### Fitting our model with 80% training data"
   ]
  },
  {
   "cell_type": "code",
   "execution_count": 84,
   "id": "34658fca",
   "metadata": {},
   "outputs": [
    {
     "name": "stderr",
     "output_type": "stream",
     "text": [
      "C:\\Users\\owner\\opencv\\lib\\site-packages\\sklearn\\linear_model\\_logistic.py:444: ConvergenceWarning: lbfgs failed to converge (status=1):\n",
      "STOP: TOTAL NO. of ITERATIONS REACHED LIMIT.\n",
      "\n",
      "Increase the number of iterations (max_iter) or scale the data as shown in:\n",
      "    https://scikit-learn.org/stable/modules/preprocessing.html\n",
      "Please also refer to the documentation for alternative solver options:\n",
      "    https://scikit-learn.org/stable/modules/linear_model.html#logistic-regression\n",
      "  n_iter_i = _check_optimize_result(\n"
     ]
    },
    {
     "data": {
      "text/html": [
       "<style>#sk-container-id-1 {color: black;background-color: white;}#sk-container-id-1 pre{padding: 0;}#sk-container-id-1 div.sk-toggleable {background-color: white;}#sk-container-id-1 label.sk-toggleable__label {cursor: pointer;display: block;width: 100%;margin-bottom: 0;padding: 0.3em;box-sizing: border-box;text-align: center;}#sk-container-id-1 label.sk-toggleable__label-arrow:before {content: \"▸\";float: left;margin-right: 0.25em;color: #696969;}#sk-container-id-1 label.sk-toggleable__label-arrow:hover:before {color: black;}#sk-container-id-1 div.sk-estimator:hover label.sk-toggleable__label-arrow:before {color: black;}#sk-container-id-1 div.sk-toggleable__content {max-height: 0;max-width: 0;overflow: hidden;text-align: left;background-color: #f0f8ff;}#sk-container-id-1 div.sk-toggleable__content pre {margin: 0.2em;color: black;border-radius: 0.25em;background-color: #f0f8ff;}#sk-container-id-1 input.sk-toggleable__control:checked~div.sk-toggleable__content {max-height: 200px;max-width: 100%;overflow: auto;}#sk-container-id-1 input.sk-toggleable__control:checked~label.sk-toggleable__label-arrow:before {content: \"▾\";}#sk-container-id-1 div.sk-estimator input.sk-toggleable__control:checked~label.sk-toggleable__label {background-color: #d4ebff;}#sk-container-id-1 div.sk-label input.sk-toggleable__control:checked~label.sk-toggleable__label {background-color: #d4ebff;}#sk-container-id-1 input.sk-hidden--visually {border: 0;clip: rect(1px 1px 1px 1px);clip: rect(1px, 1px, 1px, 1px);height: 1px;margin: -1px;overflow: hidden;padding: 0;position: absolute;width: 1px;}#sk-container-id-1 div.sk-estimator {font-family: monospace;background-color: #f0f8ff;border: 1px dotted black;border-radius: 0.25em;box-sizing: border-box;margin-bottom: 0.5em;}#sk-container-id-1 div.sk-estimator:hover {background-color: #d4ebff;}#sk-container-id-1 div.sk-parallel-item::after {content: \"\";width: 100%;border-bottom: 1px solid gray;flex-grow: 1;}#sk-container-id-1 div.sk-label:hover label.sk-toggleable__label {background-color: #d4ebff;}#sk-container-id-1 div.sk-serial::before {content: \"\";position: absolute;border-left: 1px solid gray;box-sizing: border-box;top: 0;bottom: 0;left: 50%;z-index: 0;}#sk-container-id-1 div.sk-serial {display: flex;flex-direction: column;align-items: center;background-color: white;padding-right: 0.2em;padding-left: 0.2em;position: relative;}#sk-container-id-1 div.sk-item {position: relative;z-index: 1;}#sk-container-id-1 div.sk-parallel {display: flex;align-items: stretch;justify-content: center;background-color: white;position: relative;}#sk-container-id-1 div.sk-item::before, #sk-container-id-1 div.sk-parallel-item::before {content: \"\";position: absolute;border-left: 1px solid gray;box-sizing: border-box;top: 0;bottom: 0;left: 50%;z-index: -1;}#sk-container-id-1 div.sk-parallel-item {display: flex;flex-direction: column;z-index: 1;position: relative;background-color: white;}#sk-container-id-1 div.sk-parallel-item:first-child::after {align-self: flex-end;width: 50%;}#sk-container-id-1 div.sk-parallel-item:last-child::after {align-self: flex-start;width: 50%;}#sk-container-id-1 div.sk-parallel-item:only-child::after {width: 0;}#sk-container-id-1 div.sk-dashed-wrapped {border: 1px dashed gray;margin: 0 0.4em 0.5em 0.4em;box-sizing: border-box;padding-bottom: 0.4em;background-color: white;}#sk-container-id-1 div.sk-label label {font-family: monospace;font-weight: bold;display: inline-block;line-height: 1.2em;}#sk-container-id-1 div.sk-label-container {text-align: center;}#sk-container-id-1 div.sk-container {/* jupyter's `normalize.less` sets `[hidden] { display: none; }` but bootstrap.min.css set `[hidden] { display: none !important; }` so we also need the `!important` here to be able to override the default hidden behavior on the sphinx rendered scikit-learn.org. See: https://github.com/scikit-learn/scikit-learn/issues/21755 */display: inline-block !important;position: relative;}#sk-container-id-1 div.sk-text-repr-fallback {display: none;}</style><div id=\"sk-container-id-1\" class=\"sk-top-container\"><div class=\"sk-text-repr-fallback\"><pre>LogisticRegression()</pre><b>In a Jupyter environment, please rerun this cell to show the HTML representation or trust the notebook. <br />On GitHub, the HTML representation is unable to render, please try loading this page with nbviewer.org.</b></div><div class=\"sk-container\" hidden><div class=\"sk-item\"><div class=\"sk-estimator sk-toggleable\"><input class=\"sk-toggleable__control sk-hidden--visually\" id=\"sk-estimator-id-1\" type=\"checkbox\" checked><label for=\"sk-estimator-id-1\" class=\"sk-toggleable__label sk-toggleable__label-arrow\">LogisticRegression</label><div class=\"sk-toggleable__content\"><pre>LogisticRegression()</pre></div></div></div></div></div>"
      ],
      "text/plain": [
       "LogisticRegression()"
      ]
     },
     "execution_count": 84,
     "metadata": {},
     "output_type": "execute_result"
    }
   ],
   "source": [
    "model.fit(trainX,trainY)"
   ]
  },
  {
   "cell_type": "code",
   "execution_count": 86,
   "id": "65004822",
   "metadata": {},
   "outputs": [],
   "source": [
    "model_pred=model.predict(testX)\n",
    "#model_pred"
   ]
  },
  {
   "cell_type": "markdown",
   "id": "0ee6ee60",
   "metadata": {},
   "source": [
    "##### Evaluating our model Performance"
   ]
  },
  {
   "cell_type": "code",
   "execution_count": 100,
   "id": "1f3ccdc0",
   "metadata": {},
   "outputs": [
    {
     "data": {
      "text/plain": [
       "0.9218241042345277"
      ]
     },
     "execution_count": 100,
     "metadata": {},
     "output_type": "execute_result"
    }
   ],
   "source": [
    "####### Model Accuracy\n",
    "model.score(testX,testY)"
   ]
  },
  {
   "cell_type": "markdown",
   "id": "ae27aedf",
   "metadata": {},
   "source": [
    "92.2% accuracy on performance test is good.wonder if there is any overfitting...we can verify by checking accuracy on training\n",
    "model.score(trainX,trainY)....0.9214673913043478\n"
   ]
  },
  {
   "cell_type": "code",
   "execution_count": 88,
   "id": "14dae3cc",
   "metadata": {},
   "outputs": [
    {
     "data": {
      "text/plain": [
       "0.9214673913043478"
      ]
     },
     "execution_count": 88,
     "metadata": {},
     "output_type": "execute_result"
    }
   ],
   "source": []
  },
  {
   "cell_type": "code",
   "execution_count": 96,
   "id": "66e5fc49",
   "metadata": {},
   "outputs": [
    {
     "data": {
      "text/plain": [
       "Text(0.5, 257.44, 'Predicted label')"
      ]
     },
     "execution_count": 96,
     "metadata": {},
     "output_type": "execute_result"
    },
    {
     "data": {
      "image/png": "[encoded data removed]",
      "text/plain": [
       "<Figure size 432x288 with 2 Axes>"
      ]
     },
     "metadata": {
      "needs_background": "light"
     },
     "output_type": "display_data"
    }
   ],
   "source": [
    "#A confusion matrix is a table that is used to evaluate the performance of a classification model. \n",
    "#You can also visualize the performance of an algorithm. The fundamental of a confusion matrix is the number of correct\n",
    "#and incorrect predictions\n",
    "confusion_matrix = metrics.confusion_matrix(testY, model_pred)\n",
    "class_names=[0,1] \n",
    "fig, ax = plt.subplots()\n",
    "tick_marks = np.arange(len(class_names))\n",
    "plt.xticks(tick_marks, class_names)\n",
    "plt.yticks(tick_marks, class_names)\n",
    "\n",
    "\n",
    "sns.heatmap(pd.DataFrame(confusion_matrix), annot=True, cmap=\"PuBuGn\" ,fmt='g')\n",
    "ax.xaxis.set_label_position(\"top\")\n",
    "plt.tight_layout()\n",
    "plt.title('Confusion matrix for Email Sorting', y=1.1)\n",
    "plt.ylabel('Actual Label')\n",
    "plt.xlabel('Predicted Label')"
   ]
  },
  {
   "cell_type": "code",
   "execution_count": null,
   "id": "7bd8b1dd",
   "metadata": {},
   "outputs": [],
   "source": [
    "According to the confusion matrix, our model correctly predicted 504 email to be non-spam (ham) and 345 email to be spam. \n",
    "38 email labeled as spam ones were incorrectly classified as non-spam email ...Oooops somebody got more email to go through\n",
    "34 email labeled as non-spam ones were incorrectly classified as spam email....Oooops somebody got some email lost"
   ]
  },
  {
   "cell_type": "code",
   "execution_count": 102,
   "id": "d5d333a3",
   "metadata": {},
   "outputs": [
    {
     "name": "stdout",
     "output_type": "stream",
     "text": [
      "              precision    recall  f1-score   support\n",
      "\n",
      "           0       0.93      0.94      0.93       538\n",
      "           1       0.91      0.90      0.91       383\n",
      "\n",
      "    accuracy                           0.92       921\n",
      "   macro avg       0.92      0.92      0.92       921\n",
      "weighted avg       0.92      0.92      0.92       921\n",
      "\n"
     ]
    }
   ],
   "source": [
    "print(classification_report(testY, model_pred))"
   ]
  },
  {
   "cell_type": "markdown",
   "id": "d8533da2",
   "metadata": {},
   "source": [
    "We already saw that the model was 92.2 % accurate ...this time, we can see that the model will be precised in predictiing non-spam\n",
    "email 93% of the time and 91% for spam email. This is considered good as no model is perfect. fishers and hackers always have \n",
    "an advance on tricking good systems...Good systems are reactive most of the time. \n",
    "\n",
    "There are a time where a good company will tell you to look for their email in the spam folder. This might sound unbelievable\n",
    "but in the world of technology, it can makes sense and it is possible. If one filter/firewall system behind the others, the\n",
    "likelyhood for suc error to occur is possible. So, it is good to check the spam folder sometimes.\n",
    "\n",
    "Precision and accuracy often bring confusion. A good way to apprehend the difference is to think about a mechanic system like \n",
    "mechanic watch, relays, switches, etc. Most of the time accuracy on these systems means that if the relay is supposed to \n",
    "react to a fault within let's say 1min setting, the actual response might occur at 1.05 min or 1.03min...that is approximately\n",
    "within +5% tolerance...that is how accurate the relay performs. On the other hands, this relay is supposed to trip whenever \n",
    "it senses the fault and it does each time regardless...that is how the relay is precised...Such system have higher expectation\n",
    "in the range of 99% if not 100% because the consequence might be a disaster. Our model says that we can count on it to be effective\n",
    "91% in capturing spam email...that leave us with 9% of expected bad mail in the mail folder to go through. \n",
    "\n",
    "This performance is based on \n",
    "non-spam    2788\n",
    "spam        1813\n",
    "\n",
    "A company/individual receiving 1813 spam can be huge if it is like weekly...Something need to be done.\n",
    "I get minimum of 1000 email per week at work. I never actually pay attention to count the spam/junk folder.\n"
   ]
  },
  {
   "cell_type": "code",
   "execution_count": 120,
   "id": "1e757979",
   "metadata": {},
   "outputs": [
    {
     "data": {
      "image/png": "[encoded data removed]",
      "text/plain": [
       "<Figure size 432x288 with 1 Axes>"
      ]
     },
     "metadata": {
      "needs_background": "light"
     },
     "output_type": "display_data"
    }
   ],
   "source": [
    "## ROC Curve is sometime used to tell how good a classifier is. \n",
    "\n",
    "model_pred_prob = model.predict_proba(testX)[::,1]\n",
    "fpr, tpr, _ = metrics.roc_curve(testY,  model_pred_prob)  #True Positive Rate (trp), False Positive Rate(fpr)\n",
    "auc = metrics.roc_auc_score(testY, model_pred_prob)\n",
    "plt.title('ROC Curve for Email Sorting', y=1.1)\n",
    "plt.plot(fpr,tpr,label=\"data, auc=\"+str(auc))\n",
    "plt.legend(loc=4)\n",
    "plt.show()"
   ]
  },
  {
   "cell_type": "markdown",
   "id": "b467a7bf",
   "metadata": {},
   "source": [
    "The ROC Curve is telling us that based on the AUC(area under curve) score 0.96...our model is close to perfect.\n",
    "Let's say the model did not perform well...meaning we got like 0.60 AUC score. \n",
    "What could we do to improve our model performance?\n",
    "One way is to check the significance of each independent variable in relationship with the target variable. "
   ]
  },
  {
   "cell_type": "code",
   "execution_count": 110,
   "id": "d95cb89a",
   "metadata": {},
   "outputs": [
    {
     "name": "stdout",
     "output_type": "stream",
     "text": [
      "Optimization terminated successfully.\n",
      "         Current function value: 0.212842\n",
      "         Iterations 15\n",
      "                               Results: Logit\n",
      "============================================================================\n",
      "Model:                  Logit                Pseudo R-squared:     0.683    \n",
      "Dependent Variable:     target               AIC:                  2072.5739\n",
      "Date:                   2022-07-18 16:11     BIC:                  2439.3136\n",
      "No. Observations:       4601                 Log-Likelihood:       -979.29  \n",
      "Df Model:               56                   LL-Null:              -3085.1  \n",
      "Df Residuals:           4544                 LLR p-value:          0.0000   \n",
      "Converged:              1.0000               Scale:                1.0000   \n",
      "No. Iterations:         15.0000                                             \n",
      "----------------------------------------------------------------------------\n",
      "                            Coef.   Std.Err.    z    P>|z|   [0.025   0.975]\n",
      "----------------------------------------------------------------------------\n",
      "word_freq_make              -0.4925   0.2040 -2.4141 0.0158  -0.8924 -0.0926\n",
      "word_freq_address           -0.2455   0.0659 -3.7283 0.0002  -0.3746 -0.1165\n",
      "word_freq_all               -0.0881   0.1086 -0.8110 0.4174  -0.3009  0.1248\n",
      "word_freq_3d                 2.0840   1.4406  1.4467 0.1480  -0.7394  4.9075\n",
      "word_freq_our                0.3643   0.0990  3.6788 0.0002   0.1702  0.5584\n",
      "word_freq_over               0.5346   0.2399  2.2286 0.0258   0.0644  1.0048\n",
      "word_freq_remove             2.1275   0.3273  6.5006 0.0000   1.4861  2.7690\n",
      "word_freq_internet           0.4187   0.1444  2.9008 0.0037   0.1358  0.7017\n",
      "word_freq_order              0.5012   0.2695  1.8597 0.0629  -0.0270  1.0294\n",
      "word_freq_mail               0.0377   0.0680  0.5553 0.5787  -0.0955  0.1709\n",
      "word_freq_receive           -0.1094   0.2911 -0.3757 0.7071  -0.6799  0.4612\n",
      "word_freq_will              -0.3316   0.0718 -4.6149 0.0000  -0.4724 -0.1907\n",
      "word_freq_people            -0.3511   0.2158 -1.6273 0.1037  -0.7740  0.0718\n",
      "word_freq_report            -0.0540   0.1352 -0.3995 0.6895  -0.3191  0.2110\n",
      "word_freq_addresses          1.4374   0.7500  1.9165 0.0553  -0.0326  2.9074\n",
      "word_freq_free               0.8798   0.1431  6.1494 0.0000   0.5994  1.1603\n",
      "word_freq_business           0.8914   0.2254  3.9556 0.0001   0.4497  1.3332\n",
      "word_freq_email             -0.0107   0.1102 -0.0972 0.9226  -0.2268  0.2053\n",
      "word_freq_you               -0.0830   0.0318 -2.6123 0.0090  -0.1453 -0.0207\n",
      "word_freq_credit             1.1846   0.5539  2.1386 0.0325   0.0990  2.2703\n",
      "word_freq_your               0.1524   0.0510  2.9859 0.0028   0.0524  0.2525\n",
      "word_freq_font               0.1957   0.1856  1.0545 0.2917  -0.1681  0.5596\n",
      "word_freq_000                2.1029   0.4621  4.5506 0.0000   1.1972  3.0086\n",
      "word_freq_money              0.4031   0.1661  2.4263 0.0153   0.0775  0.7286\n",
      "word_freq_hp                -2.2495   0.3190 -7.0516 0.0000  -2.8748 -1.6243\n",
      "word_freq_hpl               -1.1445   0.4358 -2.6259 0.0086  -1.9987 -0.2903\n",
      "word_freq_george            -8.8352   1.6491 -5.3576 0.0000 -12.0673 -5.6030\n",
      "word_freq_650                0.4550   0.2028  2.2436 0.0249   0.0575  0.8524\n",
      "word_freq_lab               -3.5130   1.7222 -2.0399 0.0414  -6.8885 -0.1376\n",
      "word_freq_labs              -0.4937   0.3218 -1.5345 0.1249  -1.1244  0.1369\n",
      "word_freq_telnet            -0.3485   0.6544 -0.5325 0.5944  -1.6310  0.9341\n",
      "word_freq_857                1.4011   3.1060  0.4511 0.6519  -4.6865  7.4887\n",
      "word_freq_data              -1.0208   0.3052 -3.3451 0.0008  -1.6189 -0.4227\n",
      "word_freq_415                0.2151   1.5568  0.1382 0.8901  -2.8362  3.2664\n",
      "word_freq_85                -2.3772   0.7568 -3.1412 0.0017  -3.8604 -0.8939\n",
      "word_freq_technology         0.3976   0.3047  1.3050 0.1919  -0.1995  0.9947\n",
      "word_freq_1999              -0.1732   0.1774 -0.9764 0.3289  -0.5208  0.1744\n",
      "word_freq_parts             -0.7428   0.4404 -1.6864 0.0917  -1.6060  0.1205\n",
      "word_freq_pm                -0.9949   0.3723 -2.6721 0.0075  -1.7247 -0.2652\n",
      "word_freq_direct            -0.5242   0.3530 -1.4850 0.1375  -1.2161  0.1677\n",
      "word_freq_cs               -35.6540  22.5596 -1.5804 0.1140 -79.8699  8.5619\n",
      "word_freq_meeting           -2.9040   0.8308 -3.4955 0.0005  -4.5323 -1.2757\n",
      "word_freq_original          -1.7695   0.8759 -2.0203 0.0434  -3.4863 -0.0528\n",
      "word_freq_project           -2.1610   0.5600 -3.8592 0.0001  -3.2585 -1.0635\n",
      "word_freq_re                -0.9973   0.1497 -6.6623 0.0000  -1.2907 -0.7039\n",
      "word_freq_edu               -1.9000   0.2868 -6.6252 0.0000  -2.4621 -1.3379\n",
      "word_freq_table             -2.4466   1.7914 -1.3658 0.1720  -5.9577  1.0644\n",
      "word_freq_conference        -3.5800   1.2071 -2.9657 0.0030  -5.9459 -1.2140\n",
      "char_freq_%3B               -1.6146   0.5125 -3.1502 0.0016  -2.6191 -0.6100\n",
      "char_freq_%28               -1.2256   0.3365 -3.6419 0.0003  -1.8852 -0.5660\n",
      "char_freq_%5B               -1.5855   0.9863 -1.6076 0.1079  -3.5186  0.3475\n",
      "char_freq_%21                0.2349   0.0555  4.2310 0.0000   0.1261  0.3437\n",
      "char_freq_%24                4.9602   0.7040  7.0457 0.0000   3.5804  6.3400\n",
      "char_freq_%23                2.2275   1.1314  1.9689 0.0490   0.0101  4.4449\n",
      "capital_run_length_average  -0.0142   0.0091 -1.5602 0.1187  -0.0321  0.0036\n",
      "capital_run_length_longest   0.0092   0.0021  4.2802 0.0000   0.0050  0.0134\n",
      "capital_run_length_total     0.0004   0.0002  2.0834 0.0372   0.0000  0.0008\n",
      "============================================================================\n",
      "\n"
     ]
    }
   ],
   "source": [
    "model_logit=sm.Logit(y,x)\n",
    "model_fit=model_logit.fit()\n",
    "print(model_fit.summary2())"
   ]
  },
  {
   "cell_type": "markdown",
   "id": "3c5a9db1",
   "metadata": {},
   "source": [
    "The above result contains p-value for the model...\n",
    "A p-value is a statistical measurement used to validate a hypothesis against observed data. \n",
    "A p-value measures the probability of obtaining the observed results, assuming that the null hypothesis is true. \n",
    "The lower the p-value, the greater the statistical significance of the observed difference.\n",
    "\n",
    "Based on p-values greater than 0.05...the variable should be removed, thereafter, running the new model to see if the performance\n",
    "has improved. This approach normally improve the model performance because even if Logistic regregression is data hungry, having \n",
    "way too many independence variables affect the model...that is one issue that dimensionality deals with.\n",
    "\n",
    "Another approach in improving the model performance is to try another classifier. For binary classification, Naive Bayes is \n",
    "another good classifier. \n",
    "\n",
    "\n",
    "https://www.investopedia.com/terms/p/p-value.asp#:~:text=A%20p%2Dvalue%20is%20a,significance%20of%20the%20observed%20difference."
   ]
  },
  {
   "cell_type": "code",
   "execution_count": 117,
   "id": "9ae1ad25",
   "metadata": {},
   "outputs": [
    {
     "name": "stdout",
     "output_type": "stream",
     "text": [
      "0.8773072747014115\n"
     ]
    }
   ],
   "source": [
    "# Let's call the naive-bayes function...\n",
    "model2 = BernoulliNB()\n",
    "\n",
    "# training the model\n",
    "model2.fit(trainX,trainY)\n",
    "\n",
    "# testing the model\n",
    "model2_pred = model2.predict(testX)\n",
    "print(accuracy_score(model2_pred, testY))\n"
   ]
  },
  {
   "cell_type": "markdown",
   "id": "1a877fe0",
   "metadata": {},
   "source": [
    "the model actually dropped in performance, meaning , logistic regression is better for this email classification"
   ]
  },
  {
   "cell_type": "code",
   "execution_count": null,
   "id": "cfb74e60",
   "metadata": {},
   "outputs": [],
   "source": []
  }
 ],
 "metadata": {
  "kernelspec": {
   "display_name": "Python 3 (ipykernel)",
   "language": "python",
   "name": "python3"
  },
  "language_info": {
   "codemirror_mode": {
    "name": "ipython",
    "version": 3
   },
   "file_extension": ".py",
   "mimetype": "text/x-python",
   "name": "python",
   "nbconvert_exporter": "python",
   "pygments_lexer": "ipython3",
   "version": "3.10.5"
  }
 },
 "nbformat": 4,
 "nbformat_minor": 5
}
